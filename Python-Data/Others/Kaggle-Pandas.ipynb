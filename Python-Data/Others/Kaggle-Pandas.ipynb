{
 "cells": [
  {
   "cell_type": "markdown",
   "id": "ccd55e9d-ae6b-4352-87fd-69c93049eaf5",
   "metadata": {},
   "source": [
    "# Kaggle: Creating, Reading and Writing"
   ]
  },
  {
   "cell_type": "markdown",
   "id": "32534d5b-ba43-4bb6-a51a-64b00d6d6783",
   "metadata": {},
   "source": [
    "This course teaches the basic of Pandas—how to use it to create, read, and write files to csv.<hr>\n",
    "<!-- <img title = \"panda\" src = \"https://cdn.mos.cms.futurecdn.net/snvWHcGBeh6zwFMPsi8bDN-1024-80.jpg.webp\" width = '200'/> >"
   ]
  },
  {
   "cell_type": "markdown",
   "id": "5fbcddfc-f874-400a-8e1a-da6b985ee85c",
   "metadata": {
    "jp-MarkdownHeadingCollapsed": true
   },
   "source": [
    "## 1. Creating data\n",
    "- pd.DataFrame(): returns a table, takes dictionary, index name... .\n",
    "- pd.Series(): returns a column, takes index name, and table name."
   ]
  },
  {
   "cell_type": "markdown",
   "id": "be5eef89-7f28-48ca-9c34-9ba232d42865",
   "metadata": {},
   "source": [
    "### 1.1. Data Frames:"
   ]
  },
  {
   "cell_type": "code",
   "execution_count": 13,
   "id": "dac0c4f3-860e-4e6a-9b61-61309f411eb0",
   "metadata": {},
   "outputs": [
    {
     "data": {
      "text/html": [
       "<div>\n",
       "<style scoped>\n",
       "    .dataframe tbody tr th:only-of-type {\n",
       "        vertical-align: middle;\n",
       "    }\n",
       "\n",
       "    .dataframe tbody tr th {\n",
       "        vertical-align: top;\n",
       "    }\n",
       "\n",
       "    .dataframe thead th {\n",
       "        text-align: right;\n",
       "    }\n",
       "</style>\n",
       "<table border=\"1\" class=\"dataframe\">\n",
       "  <thead>\n",
       "    <tr style=\"text-align: right;\">\n",
       "      <th></th>\n",
       "      <th>Yes</th>\n",
       "      <th>No</th>\n",
       "    </tr>\n",
       "  </thead>\n",
       "  <tbody>\n",
       "    <tr>\n",
       "      <th>0</th>\n",
       "      <td>50</td>\n",
       "      <td>131</td>\n",
       "    </tr>\n",
       "    <tr>\n",
       "      <th>1</th>\n",
       "      <td>21</td>\n",
       "      <td>2</td>\n",
       "    </tr>\n",
       "  </tbody>\n",
       "</table>\n",
       "</div>"
      ],
      "text/plain": [
       "   Yes   No\n",
       "0   50  131\n",
       "1   21    2"
      ]
     },
     "execution_count": 13,
     "metadata": {},
     "output_type": "execute_result"
    }
   ],
   "source": [
    "import pandas as pd\n",
    "pd.DataFrame({\"Yes\": [50, 21], \"No\": [131, 2]})"
   ]
  },
  {
   "cell_type": "markdown",
   "id": "e3af6b88-660b-40fe-819d-bd9eb181428a",
   "metadata": {},
   "source": [
    "#### Editing the index\n",
    "There you can notice that there is an index, you can actually edit it:"
   ]
  },
  {
   "cell_type": "code",
   "execution_count": 18,
   "id": "dd0dec6f-7b8f-4827-9b78-f7937e72e574",
   "metadata": {},
   "outputs": [
    {
     "data": {
      "text/html": [
       "<div>\n",
       "<style scoped>\n",
       "    .dataframe tbody tr th:only-of-type {\n",
       "        vertical-align: middle;\n",
       "    }\n",
       "\n",
       "    .dataframe tbody tr th {\n",
       "        vertical-align: top;\n",
       "    }\n",
       "\n",
       "    .dataframe thead th {\n",
       "        text-align: right;\n",
       "    }\n",
       "</style>\n",
       "<table border=\"1\" class=\"dataframe\">\n",
       "  <thead>\n",
       "    <tr style=\"text-align: right;\">\n",
       "      <th></th>\n",
       "      <th>Yes</th>\n",
       "      <th>No</th>\n",
       "    </tr>\n",
       "  </thead>\n",
       "  <tbody>\n",
       "    <tr>\n",
       "      <th>Alabama</th>\n",
       "      <td>50</td>\n",
       "      <td>131</td>\n",
       "    </tr>\n",
       "    <tr>\n",
       "      <th>Detroit</th>\n",
       "      <td>21</td>\n",
       "      <td>2</td>\n",
       "    </tr>\n",
       "  </tbody>\n",
       "</table>\n",
       "</div>"
      ],
      "text/plain": [
       "         Yes   No\n",
       "Alabama   50  131\n",
       "Detroit   21    2"
      ]
     },
     "execution_count": 18,
     "metadata": {},
     "output_type": "execute_result"
    }
   ],
   "source": [
    "pd.DataFrame({\"Yes\": [50, 21], \"No\": [131, 2]}, index=[\"Alabama\", \"Detroit\"])"
   ]
  },
  {
   "cell_type": "markdown",
   "id": "361072de-8bf8-44d4-ab46-aa0d24366d71",
   "metadata": {},
   "source": [
    "### 1.2. Series:\n",
    "Series do not have a column name, but overall"
   ]
  },
  {
   "cell_type": "code",
   "execution_count": 14,
   "id": "8c15c0a8-8536-4962-85eb-1281de71715f",
   "metadata": {},
   "outputs": [
    {
     "data": {
      "text/plain": [
       "0    1\n",
       "1    2\n",
       "2    3\n",
       "3    4\n",
       "4    5\n",
       "dtype: int64"
      ]
     },
     "execution_count": 14,
     "metadata": {},
     "output_type": "execute_result"
    }
   ],
   "source": [
    "pd.Series([1, 2, 3, 4, 5])"
   ]
  },
  {
   "cell_type": "markdown",
   "id": "49d86a77-091e-405f-8fd9-89af340be20b",
   "metadata": {},
   "source": [
    "#### Editing Index and name"
   ]
  },
  {
   "cell_type": "code",
   "execution_count": 15,
   "id": "8d9a39f0-fced-4d5d-aff7-ef14f9b2a61f",
   "metadata": {},
   "outputs": [
    {
     "data": {
      "text/plain": [
       "2015 Sales    30\n",
       "2016 Sales    35\n",
       "2017 Sales    40\n",
       "Name: Product A, dtype: int64"
      ]
     },
     "execution_count": 15,
     "metadata": {},
     "output_type": "execute_result"
    }
   ],
   "source": [
    "pd.Series([30, 35, 40], index = [\"2015 Sales\", \"2016 Sales\", \"2017 Sales\"], name = \"Product A\")"
   ]
  },
  {
   "cell_type": "markdown",
   "id": "acdf376b-ff8c-499d-8c15-f7dbcdd8317b",
   "metadata": {
    "jp-MarkdownHeadingCollapsed": true
   },
   "source": [
    "## 2. Reading data files\n",
    "- pd.read_csv(): to read csv, takes many arguments, the most important is the path."
   ]
  },
  {
   "cell_type": "code",
   "execution_count": 24,
   "id": "ce6613f1-a141-45fd-8611-16a2e1c42bb2",
   "metadata": {},
   "outputs": [
    {
     "data": {
      "text/html": [
       "<div>\n",
       "<style scoped>\n",
       "    .dataframe tbody tr th:only-of-type {\n",
       "        vertical-align: middle;\n",
       "    }\n",
       "\n",
       "    .dataframe tbody tr th {\n",
       "        vertical-align: top;\n",
       "    }\n",
       "\n",
       "    .dataframe thead th {\n",
       "        text-align: right;\n",
       "    }\n",
       "</style>\n",
       "<table border=\"1\" class=\"dataframe\">\n",
       "  <thead>\n",
       "    <tr style=\"text-align: right;\">\n",
       "      <th></th>\n",
       "      <th>Sq Meters</th>\n",
       "      <th>Prices in Hundred K</th>\n",
       "    </tr>\n",
       "  </thead>\n",
       "  <tbody>\n",
       "    <tr>\n",
       "      <th>0</th>\n",
       "      <td>28</td>\n",
       "      <td>115</td>\n",
       "    </tr>\n",
       "    <tr>\n",
       "      <th>1</th>\n",
       "      <td>23</td>\n",
       "      <td>119</td>\n",
       "    </tr>\n",
       "    <tr>\n",
       "      <th>2</th>\n",
       "      <td>28</td>\n",
       "      <td>176</td>\n",
       "    </tr>\n",
       "    <tr>\n",
       "      <th>3</th>\n",
       "      <td>30</td>\n",
       "      <td>145</td>\n",
       "    </tr>\n",
       "    <tr>\n",
       "      <th>4</th>\n",
       "      <td>28</td>\n",
       "      <td>125</td>\n",
       "    </tr>\n",
       "  </tbody>\n",
       "</table>\n",
       "</div>"
      ],
      "text/plain": [
       "   Sq Meters  Prices in Hundred K\n",
       "0         28                  115\n",
       "1         23                  119\n",
       "2         28                  176\n",
       "3         30                  145\n",
       "4         28                  125"
      ]
     },
     "execution_count": 24,
     "metadata": {},
     "output_type": "execute_result"
    }
   ],
   "source": [
    "# This is my own file\n",
    "price = pd.read_csv(r\"C:\\Users\\magan\\Desktop\\Python-Courses\\Python-Data\\Prizes.csv\")\n",
    "price.head()"
   ]
  },
  {
   "cell_type": "markdown",
   "id": "d3c308e7-bed7-490b-9410-f29bdff50b5c",
   "metadata": {
    "jp-MarkdownHeadingCollapsed": true
   },
   "source": [
    "## 3. Writing to a csv\n",
    "- pd.DataFrame.to_csv(): You can use this to transfer data frame to csv"
   ]
  },
  {
   "cell_type": "code",
   "execution_count": 44,
   "id": "3ac1f4ff-4514-45a6-acdb-fb6fa5995d4a",
   "metadata": {},
   "outputs": [
    {
     "name": "stdout",
     "output_type": "stream",
     "text": [
      "         Apples  Bananas\n",
      "Monday        1        3\n",
      "Tuesday       2        4\n"
     ]
    }
   ],
   "source": [
    "Diet = pd.DataFrame({\"Apples\": [1, 2], \"Bananas\": [3, 4]}, index = [\"Monday\", \"Tuesday\"])\n",
    "print(Diet)"
   ]
  },
  {
   "cell_type": "code",
   "execution_count": 46,
   "id": "efa2f9d4-0998-4c04-a2bf-5b7eae2bc022",
   "metadata": {},
   "outputs": [],
   "source": [
    "# You can make it a csv file like the open()\n",
    "pd.DataFrame.to_csv(Diet, \"Diet.csv\") # you can assign False to index attribute"
   ]
  },
  {
   "cell_type": "markdown",
   "id": "a19ac2ab-2e6b-4e75-8f23-71166a37fefb",
   "metadata": {
    "jp-MarkdownHeadingCollapsed": true
   },
   "source": [
    "## 4. Exercise\n"
   ]
  },
  {
   "cell_type": "markdown",
   "id": "c6a4fb1d-eec9-40b5-ac62-9b2ca0c2a08e",
   "metadata": {},
   "source": [
    "##### 1.\r\n",
    "\r\n",
    "In the cell below, create a DataFrame `fruits` that looks like this:\r\n",
    "\r\n",
    "![](https://storage.googleapis.com/kaggle-media/learn/images/Ax3pp2A.png)"
   ]
  },
  {
   "cell_type": "code",
   "execution_count": null,
   "id": "8f07a0a6-679f-4c97-8af2-4fd815d3cc76",
   "metadata": {},
   "outputs": [],
   "source": [
    "# Your code goes here:"
   ]
  },
  {
   "cell_type": "markdown",
   "id": "a31c7ae9-fd42-4925-a8ae-6606eb7cd7d1",
   "metadata": {},
   "source": [
    "##### 2.\r\n",
    "\r\n",
    "Create a dataframe `fruit_sales` that matches the diagram below:\r\n",
    "\r\n",
    "![](https://storage.googleapis.com/kaggle-media/learn/images/CHPn7ZF.png)"
   ]
  },
  {
   "cell_type": "code",
   "execution_count": 32,
   "id": "1c33c48a-c5b0-4aa4-bf90-db23c6d340d2",
   "metadata": {},
   "outputs": [],
   "source": [
    "# Your code goes here:"
   ]
  },
  {
   "cell_type": "markdown",
   "id": "99421ed9-695c-4a42-b6ff-ae66b1952372",
   "metadata": {},
   "source": [
    "##### 3.\r\n",
    "\r\n",
    "Create a variable `ingredients` with a Series that looks like:\r\n",
    "\r\n",
    "```\r\n",
    "Flour     4 cups\r\n",
    "Milk       1 cup\r\n",
    "Eggs     2 large\r\n",
    "Spam       1 can\r\n",
    "Name: Dinner, dtype: object\r\n",
    "```"
   ]
  },
  {
   "cell_type": "code",
   "execution_count": 33,
   "id": "5015d509-780a-4f6c-a78d-bf41b9554bc1",
   "metadata": {},
   "outputs": [],
   "source": [
    "# Your code goes here:"
   ]
  },
  {
   "cell_type": "markdown",
   "id": "bf4cfedc-2e58-44a4-ba99-4ae00a6a3a79",
   "metadata": {},
   "source": [
    "##### 5.\n",
    "\n",
    "Run the cell below to create and display a DataFrame called `animals`:"
   ]
  },
  {
   "cell_type": "code",
   "execution_count": 37,
   "id": "a8bde7fb-1927-4fd8-973f-1f5024a8c52b",
   "metadata": {},
   "outputs": [
    {
     "data": {
      "text/html": [
       "<div>\n",
       "<style scoped>\n",
       "    .dataframe tbody tr th:only-of-type {\n",
       "        vertical-align: middle;\n",
       "    }\n",
       "\n",
       "    .dataframe tbody tr th {\n",
       "        vertical-align: top;\n",
       "    }\n",
       "\n",
       "    .dataframe thead th {\n",
       "        text-align: right;\n",
       "    }\n",
       "</style>\n",
       "<table border=\"1\" class=\"dataframe\">\n",
       "  <thead>\n",
       "    <tr style=\"text-align: right;\">\n",
       "      <th></th>\n",
       "      <th>Cows</th>\n",
       "      <th>Goats</th>\n",
       "    </tr>\n",
       "  </thead>\n",
       "  <tbody>\n",
       "    <tr>\n",
       "      <th>Year 1</th>\n",
       "      <td>12</td>\n",
       "      <td>22</td>\n",
       "    </tr>\n",
       "    <tr>\n",
       "      <th>Year 2</th>\n",
       "      <td>20</td>\n",
       "      <td>19</td>\n",
       "    </tr>\n",
       "  </tbody>\n",
       "</table>\n",
       "</div>"
      ],
      "text/plain": [
       "        Cows  Goats\n",
       "Year 1    12     22\n",
       "Year 2    20     19"
      ]
     },
     "execution_count": 37,
     "metadata": {},
     "output_type": "execute_result"
    }
   ],
   "source": [
    "animals = pd.DataFrame({'Cows': [12, 20], 'Goats': [22, 19]}, index=['Year 1', 'Year 2'])\n",
    "animals"
   ]
  },
  {
   "cell_type": "markdown",
   "id": "3453a5ff-91ee-4e02-a6f6-9b9b0602488c",
   "metadata": {},
   "source": [
    "In the cell below, write code to save this DataFrame to disk as a csv file with the name `cows_and_goats.csv`."
   ]
  },
  {
   "cell_type": "code",
   "execution_count": 40,
   "id": "17849af4-99a5-40d6-9d2f-3986e93473c5",
   "metadata": {},
   "outputs": [],
   "source": [
    "# Your code goes here:"
   ]
  }
 ],
 "metadata": {
  "kernelspec": {
   "display_name": "Python 3 (ipykernel)",
   "language": "python",
   "name": "python3"
  },
  "language_info": {
   "codemirror_mode": {
    "name": "ipython",
    "version": 3
   },
   "file_extension": ".py",
   "mimetype": "text/x-python",
   "name": "python",
   "nbconvert_exporter": "python",
   "pygments_lexer": "ipython3",
   "version": "3.11.5"
  }
 },
 "nbformat": 4,
 "nbformat_minor": 5
}
