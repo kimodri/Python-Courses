{
 "cells": [
  {
   "cell_type": "markdown",
   "id": "9a6646cd",
   "metadata": {},
   "source": [
    "# Working with Categorical Data in Python"
   ]
  },
  {
   "cell_type": "markdown",
   "id": "240d5e81",
   "metadata": {},
   "source": [
    "## What Does it Mean to be \"Categorical\"?"
   ]
  },
  {
   "cell_type": "markdown",
   "id": "3cda6619",
   "metadata": {},
   "source": [
    "A variable is usually considered categorical if it contains a finite number of distinct groups - or categories. This type of data is also known as qualitative data. In contrast, numerical data (quantitative data) is expressed using values and measurements."
   ]
  },
  {
   "cell_type": "markdown",
   "id": "13d10200",
   "metadata": {},
   "source": [
    "### Example"
   ]
  },
  {
   "cell_type": "code",
   "execution_count": null,
   "id": "183af162",
   "metadata": {},
   "outputs": [],
   "source": [
    "import pandas as pd\n",
    "\n",
    "# Example of categorical data\n",
    "data = {'Category': ['Red', 'Blue', 'Green', 'Red', 'Blue']}\n",
    "df = pd.DataFrame(data)\n",
    "print(df['Category'].value_counts())"
   ]
  },
  {
   "cell_type": "markdown",
   "id": "0f199fb7",
   "metadata": {},
   "source": [
    "## Ordinal vs. Nominal Variables"
   ]
  },
  {
   "cell_type": "markdown",
   "id": "efbf829e",
   "metadata": {},
   "source": [
    "Categorical data can be further broken down into two types: **ordinal** (with a natural order) and **nominal** (without a natural order)."
   ]
  },
  {
   "cell_type": "markdown",
   "id": "091d1007",
   "metadata": {},
   "source": [
    "### Example"
   ]
  },
  {
   "cell_type": "code",
   "execution_count": null,
   "id": "3dfbdc8a",
   "metadata": {},
   "outputs": [],
   "source": [
    "# Ordinal example\n",
    "ordinal_data = {'Rating': ['Poor', 'Fair', 'Good', 'Very Good', 'Excellent']}\n",
    "ordinal_df = pd.DataFrame(ordinal_data)\n",
    "\n",
    "# Nominal example\n",
    "nominal_data = {'Color': ['Red', 'Green', 'Blue']}\n",
    "nominal_df = pd.DataFrame(nominal_data)"
   ]
  },
  {
   "cell_type": "markdown",
   "id": "2b332a78",
   "metadata": {},
   "source": [
    "## Our First Dataset"
   ]
  },
  {
   "cell_type": "markdown",
   "id": "b36240ab",
   "metadata": {},
   "source": [
    "We'll explore the adult census income dataset to learn about categorical variables. This dataset contains information on US adults and whether they make over $50,000 annually."
   ]
  },
  {
   "cell_type": "markdown",
   "id": "1cef5887",
   "metadata": {},
   "source": [
    "### Example"
   ]
  },
  {
   "cell_type": "code",
   "execution_count": null,
   "id": "ffdf687e",
   "metadata": {},
   "outputs": [],
   "source": [
    "# Load the dataset\n",
    "url = 'https://www.kaggle.com/uciml/adult-census-income'\n",
    "census_data = pd.read_csv('path_to_your_dataset.csv')\n",
    "\n",
    "# Check the dataset's info\n",
    "print(census_data.info())"
   ]
  },
  {
   "cell_type": "markdown",
   "id": "88547628",
   "metadata": {},
   "source": [
    "## Using Describe"
   ]
  },
  {
   "cell_type": "markdown",
   "id": "3bdb52d8",
   "metadata": {},
   "source": [
    "You can use the `describe()` method to explore a categorical variable like marital status."
   ]
  },
  {
   "cell_type": "markdown",
   "id": "53292629",
   "metadata": {},
   "source": [
    "### Example"
   ]
  },
  {
   "cell_type": "code",
   "execution_count": null,
   "id": "c729290f",
   "metadata": {},
   "outputs": [],
   "source": [
    "# Describe marital status\n",
    "print(census_data['Marital Status'].describe())"
   ]
  },
  {
   "cell_type": "markdown",
   "id": "7755c300",
   "metadata": {},
   "source": [
    "## Using Value Counts"
   ]
  },
  {
   "cell_type": "markdown",
   "id": "ea8423a8",
   "metadata": {},
   "source": [
    "Use the `value_counts()` method to create a frequency table of unique values."
   ]
  },
  {
   "cell_type": "markdown",
   "id": "751560f2",
   "metadata": {},
   "source": [
    "### Example"
   ]
  },
  {
   "cell_type": "code",
   "execution_count": null,
   "id": "39daa246",
   "metadata": {},
   "outputs": [],
   "source": [
    "# Value counts of marital status\n",
    "print(census_data['Marital Status'].value_counts())"
   ]
  },
  {
   "cell_type": "markdown",
   "id": "c4f6cdbe",
   "metadata": {},
   "source": [
    "## Using Value Counts with Normalize"
   ]
  },
  {
   "cell_type": "markdown",
   "id": "231cd63a",
   "metadata": {},
   "source": [
    "The `normalize=True` parameter gives the relative frequencies of the unique values."
   ]
  },
  {
   "cell_type": "markdown",
   "id": "a673b4f5",
   "metadata": {},
   "source": [
    "### Example"
   ]
  },
  {
   "cell_type": "code",
   "execution_count": null,
   "id": "ecd2a42c",
   "metadata": {},
   "outputs": [],
   "source": [
    "# Normalized value counts\n",
    "print(census_data['Marital Status'].value_counts(normalize=True))"
   ]
  },
  {
   "cell_type": "markdown",
   "id": "9e395e7c",
   "metadata": {},
   "source": [
    "## Knowledge Check"
   ]
  },
  {
   "cell_type": "markdown",
   "id": "09e28afa",
   "metadata": {},
   "source": [
    "Let's recap the different types of data we've discussed by working through a couple of exercises."
   ]
  },
  {
   "cell_type": "markdown",
   "id": "9ecd973f",
   "metadata": {},
   "source": [
    "### Example Exercise"
   ]
  },
  {
   "cell_type": "markdown",
   "id": "5b2f3ddd",
   "metadata": {},
   "source": [
    "1. Load the dataset and check the unique values in the \"Occupation\" column.\n",
    "2. Create a bar plot to visualize the distribution of \"Education\" levels."
   ]
  },
  {
   "cell_type": "code",
   "execution_count": null,
   "id": "152cfd4e",
   "metadata": {},
   "outputs": [],
   "source": [
    "import seaborn as sns\n",
    "import matplotlib.pyplot as plt\n",
    "\n",
    "# Unique values in Occupation\n",
    "print(census_data['Occupation'].unique())\n",
    "\n",
    "# Bar plot of Education levels\n",
    "sns.countplot(y='Education', data=census_data)\n",
    "plt.title('Distribution of Education Levels')\n",
    "plt.show()"
   ]
  }
 ],
 "metadata": {},
 "nbformat": 4,
 "nbformat_minor": 5
}
